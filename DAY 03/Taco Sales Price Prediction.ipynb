{
 "cells": [
  {
   "cell_type": "code",
   "execution_count": 1,
   "id": "999ace8a",
   "metadata": {},
   "outputs": [],
   "source": [
    "import pandas as pd\n",
    "import numpy as np\n",
    "import seaborn as sns\n",
    "import matplotlib.pyplot as plt"
   ]
  },
  {
   "cell_type": "markdown",
   "id": "53f07c37",
   "metadata": {},
   "source": [
    "## Import Data"
   ]
  },
  {
   "cell_type": "code",
   "execution_count": 2,
   "id": "518e3a63",
   "metadata": {},
   "outputs": [],
   "source": [
    "path = 'Z:\\\\Sasindu\\\\Data set\\\\Taco Sales\\\\taco_sales.csv'\n",
    "data = pd.read_csv(path)\n",
    "df = pd.DataFrame(data)"
   ]
  },
  {
   "cell_type": "code",
   "execution_count": 3,
   "id": "187b675e",
   "metadata": {},
   "outputs": [
    {
     "data": {
      "text/html": [
       "<div>\n",
       "<style scoped>\n",
       "    .dataframe tbody tr th:only-of-type {\n",
       "        vertical-align: middle;\n",
       "    }\n",
       "\n",
       "    .dataframe tbody tr th {\n",
       "        vertical-align: top;\n",
       "    }\n",
       "\n",
       "    .dataframe thead th {\n",
       "        text-align: right;\n",
       "    }\n",
       "</style>\n",
       "<table border=\"1\" class=\"dataframe\">\n",
       "  <thead>\n",
       "    <tr style=\"text-align: right;\">\n",
       "      <th></th>\n",
       "      <th>Order ID</th>\n",
       "      <th>Restaurant Name</th>\n",
       "      <th>Location</th>\n",
       "      <th>Order Time</th>\n",
       "      <th>Delivery Time</th>\n",
       "      <th>Delivery Duration (min)</th>\n",
       "      <th>Taco Size</th>\n",
       "      <th>Taco Type</th>\n",
       "      <th>Toppings Count</th>\n",
       "      <th>Distance (km)</th>\n",
       "      <th>Price ($)</th>\n",
       "      <th>Tip ($)</th>\n",
       "      <th>Weekend Order</th>\n",
       "    </tr>\n",
       "  </thead>\n",
       "  <tbody>\n",
       "    <tr>\n",
       "      <th>0</th>\n",
       "      <td>770487</td>\n",
       "      <td>El Taco Loco</td>\n",
       "      <td>New York</td>\n",
       "      <td>01-08-2024 14:55</td>\n",
       "      <td>01-08-2024 15:36</td>\n",
       "      <td>41</td>\n",
       "      <td>Regular</td>\n",
       "      <td>Chicken Taco</td>\n",
       "      <td>5</td>\n",
       "      <td>3.01</td>\n",
       "      <td>9.25</td>\n",
       "      <td>2.22</td>\n",
       "      <td>False</td>\n",
       "    </tr>\n",
       "    <tr>\n",
       "      <th>1</th>\n",
       "      <td>671858</td>\n",
       "      <td>El Taco Loco</td>\n",
       "      <td>San Antonio</td>\n",
       "      <td>23-11-2024 17:11</td>\n",
       "      <td>23-11-2024 17:25</td>\n",
       "      <td>14</td>\n",
       "      <td>Regular</td>\n",
       "      <td>Beef Taco</td>\n",
       "      <td>1</td>\n",
       "      <td>6.20</td>\n",
       "      <td>4.25</td>\n",
       "      <td>3.01</td>\n",
       "      <td>True</td>\n",
       "    </tr>\n",
       "    <tr>\n",
       "      <th>2</th>\n",
       "      <td>688508</td>\n",
       "      <td>Taco Haven</td>\n",
       "      <td>Austin</td>\n",
       "      <td>21-11-2024 20:24</td>\n",
       "      <td>21-11-2024 21:02</td>\n",
       "      <td>38</td>\n",
       "      <td>Large</td>\n",
       "      <td>Pork Taco</td>\n",
       "      <td>2</td>\n",
       "      <td>20.33</td>\n",
       "      <td>7.00</td>\n",
       "      <td>0.02</td>\n",
       "      <td>False</td>\n",
       "    </tr>\n",
       "    <tr>\n",
       "      <th>3</th>\n",
       "      <td>944962</td>\n",
       "      <td>Spicy Taco House</td>\n",
       "      <td>Dallas</td>\n",
       "      <td>21-09-2024 06:43</td>\n",
       "      <td>21-09-2024 07:28</td>\n",
       "      <td>45</td>\n",
       "      <td>Regular</td>\n",
       "      <td>Chicken Taco</td>\n",
       "      <td>2</td>\n",
       "      <td>3.00</td>\n",
       "      <td>5.50</td>\n",
       "      <td>1.90</td>\n",
       "      <td>True</td>\n",
       "    </tr>\n",
       "    <tr>\n",
       "      <th>4</th>\n",
       "      <td>476417</td>\n",
       "      <td>Casa del Taco</td>\n",
       "      <td>San Antonio</td>\n",
       "      <td>24-07-2024 11:01</td>\n",
       "      <td>24-07-2024 11:16</td>\n",
       "      <td>15</td>\n",
       "      <td>Large</td>\n",
       "      <td>Pork Taco</td>\n",
       "      <td>0</td>\n",
       "      <td>24.34</td>\n",
       "      <td>4.50</td>\n",
       "      <td>1.14</td>\n",
       "      <td>False</td>\n",
       "    </tr>\n",
       "  </tbody>\n",
       "</table>\n",
       "</div>"
      ],
      "text/plain": [
       "   Order ID   Restaurant Name     Location        Order Time  \\\n",
       "0    770487      El Taco Loco     New York  01-08-2024 14:55   \n",
       "1    671858      El Taco Loco  San Antonio  23-11-2024 17:11   \n",
       "2    688508        Taco Haven       Austin  21-11-2024 20:24   \n",
       "3    944962  Spicy Taco House       Dallas  21-09-2024 06:43   \n",
       "4    476417     Casa del Taco  San Antonio  24-07-2024 11:01   \n",
       "\n",
       "      Delivery Time  Delivery Duration (min) Taco Size     Taco Type  \\\n",
       "0  01-08-2024 15:36                       41   Regular  Chicken Taco   \n",
       "1  23-11-2024 17:25                       14   Regular     Beef Taco   \n",
       "2  21-11-2024 21:02                       38     Large     Pork Taco   \n",
       "3  21-09-2024 07:28                       45   Regular  Chicken Taco   \n",
       "4  24-07-2024 11:16                       15     Large     Pork Taco   \n",
       "\n",
       "   Toppings Count  Distance (km)  Price ($)  Tip ($)  Weekend Order  \n",
       "0               5           3.01       9.25     2.22          False  \n",
       "1               1           6.20       4.25     3.01           True  \n",
       "2               2          20.33       7.00     0.02          False  \n",
       "3               2           3.00       5.50     1.90           True  \n",
       "4               0          24.34       4.50     1.14          False  "
      ]
     },
     "execution_count": 3,
     "metadata": {},
     "output_type": "execute_result"
    }
   ],
   "source": [
    "df.head()"
   ]
  },
  {
   "cell_type": "code",
   "execution_count": 4,
   "id": "4f9ce719",
   "metadata": {},
   "outputs": [
    {
     "data": {
      "text/plain": [
       "(1000, 13)"
      ]
     },
     "execution_count": 4,
     "metadata": {},
     "output_type": "execute_result"
    }
   ],
   "source": [
    "df.shape"
   ]
  },
  {
   "cell_type": "code",
   "execution_count": 5,
   "id": "b77efe99",
   "metadata": {},
   "outputs": [
    {
     "name": "stdout",
     "output_type": "stream",
     "text": [
      "<class 'pandas.core.frame.DataFrame'>\n",
      "RangeIndex: 1000 entries, 0 to 999\n",
      "Data columns (total 13 columns):\n",
      " #   Column                   Non-Null Count  Dtype  \n",
      "---  ------                   --------------  -----  \n",
      " 0   Order ID                 1000 non-null   int64  \n",
      " 1   Restaurant Name          1000 non-null   object \n",
      " 2   Location                 1000 non-null   object \n",
      " 3   Order Time               1000 non-null   object \n",
      " 4   Delivery Time            1000 non-null   object \n",
      " 5   Delivery Duration (min)  1000 non-null   int64  \n",
      " 6   Taco Size                1000 non-null   object \n",
      " 7   Taco Type                1000 non-null   object \n",
      " 8   Toppings Count           1000 non-null   int64  \n",
      " 9   Distance (km)            1000 non-null   float64\n",
      " 10  Price ($)                1000 non-null   float64\n",
      " 11  Tip ($)                  1000 non-null   float64\n",
      " 12  Weekend Order            1000 non-null   bool   \n",
      "dtypes: bool(1), float64(3), int64(3), object(6)\n",
      "memory usage: 94.9+ KB\n"
     ]
    }
   ],
   "source": [
    "df.info()"
   ]
  },
  {
   "cell_type": "code",
   "execution_count": 6,
   "id": "edc5f02d",
   "metadata": {},
   "outputs": [
    {
     "data": {
      "image/png": "[encoded data removed]",
      "text/plain": [
       "<Figure size 1080x1800 with 5 Axes>"
      ]
     },
     "metadata": {
      "needs_background": "light"
     },
     "output_type": "display_data"
    }
   ],
   "source": [
    "categorical_columns = ['Restaurant Name', 'Location', 'Taco Size', 'Taco Type', 'Weekend Order']\n",
    "\n",
    "plt.figure(figsize=(15, 25))\n",
    "\n",
    "for i, column in enumerate(categorical_columns, 1):\n",
    "    ax = plt.subplot(5, 1, i)\n",
    "    countplot = sns.countplot(y=column, data=df, order=df[column].value_counts().index, ax=ax, hue = df[column])\n",
    "    plt.title(f'Distribution of {column}')\n",
    "    plt.xlabel('Count')\n",
    "    plt.ylabel(column)\n",
    "\n",
    "    # Add bar labels\n",
    "    for container in countplot.containers:\n",
    "        countplot.bar_label(container, label_type='edge', padding=3)\n",
    "\n",
    "plt.tight_layout()\n",
    "plt.show()"
   ]
  },
  {
   "cell_type": "code",
   "execution_count": 7,
   "id": "5faa817c",
   "metadata": {
    "scrolled": false
   },
   "outputs": [
    {
     "data": {
      "image/png": "[encoded data removed]",
      "text/plain": [
       "<Figure size 720x1800 with 5 Axes>"
      ]
     },
     "metadata": {
      "needs_background": "light"
     },
     "output_type": "display_data"
    }
   ],
   "source": [
    "Numerical_columns = ['Delivery Duration (min)', 'Toppings Count', 'Distance (km)', 'Price ($)', 'Tip ($)']\n",
    "plt.figure(figsize=(10,25))\n",
    "for  i,column in enumerate(Numerical_columns,1):\n",
    "    plt.subplot(5,1,i)\n",
    "    sns.histplot(data = df, x = column)\n",
    "    plt.title(f'Distribution of {column}')\n",
    "    plt.ylabel('Count')\n",
    "    plt.xlabel(column)\n",
    "\n",
    "plt.tight_layout()\n",
    "plt.show()"
   ]
  },
  {
   "cell_type": "code",
   "execution_count": 8,
   "id": "9bfa02c8",
   "metadata": {},
   "outputs": [
    {
     "data": {
      "text/plain": [
       "Order ID                   0\n",
       "Restaurant Name            0\n",
       "Location                   0\n",
       "Order Time                 0\n",
       "Delivery Time              0\n",
       "Delivery Duration (min)    0\n",
       "Taco Size                  0\n",
       "Taco Type                  0\n",
       "Toppings Count             0\n",
       "Distance (km)              0\n",
       "Price ($)                  0\n",
       "Tip ($)                    0\n",
       "Weekend Order              0\n",
       "dtype: int64"
      ]
     },
     "execution_count": 8,
     "metadata": {},
     "output_type": "execute_result"
    }
   ],
   "source": [
    "df.isnull().sum()"
   ]
  },
  {
   "cell_type": "markdown",
   "id": "d8a081d8",
   "metadata": {},
   "source": [
    "## Feature Engineering"
   ]
  },
  {
   "cell_type": "code",
   "execution_count": 9,
   "id": "4a746fd1",
   "metadata": {},
   "outputs": [
    {
     "data": {
      "text/html": [
       "<div>\n",
       "<style scoped>\n",
       "    .dataframe tbody tr th:only-of-type {\n",
       "        vertical-align: middle;\n",
       "    }\n",
       "\n",
       "    .dataframe tbody tr th {\n",
       "        vertical-align: top;\n",
       "    }\n",
       "\n",
       "    .dataframe thead th {\n",
       "        text-align: right;\n",
       "    }\n",
       "</style>\n",
       "<table border=\"1\" class=\"dataframe\">\n",
       "  <thead>\n",
       "    <tr style=\"text-align: right;\">\n",
       "      <th></th>\n",
       "      <th>Order ID</th>\n",
       "      <th>Restaurant Name</th>\n",
       "      <th>Location</th>\n",
       "      <th>Order Time</th>\n",
       "      <th>Delivery Time</th>\n",
       "      <th>Delivery Duration (min)</th>\n",
       "      <th>Taco Size</th>\n",
       "      <th>Taco Type</th>\n",
       "      <th>Toppings Count</th>\n",
       "      <th>Distance (km)</th>\n",
       "      <th>Price ($)</th>\n",
       "      <th>Tip ($)</th>\n",
       "      <th>Weekend Order</th>\n",
       "    </tr>\n",
       "  </thead>\n",
       "  <tbody>\n",
       "    <tr>\n",
       "      <th>0</th>\n",
       "      <td>770487</td>\n",
       "      <td>El Taco Loco</td>\n",
       "      <td>New York</td>\n",
       "      <td>01-08-2024 14:55</td>\n",
       "      <td>01-08-2024 15:36</td>\n",
       "      <td>41</td>\n",
       "      <td>Regular</td>\n",
       "      <td>Chicken Taco</td>\n",
       "      <td>5</td>\n",
       "      <td>3.01</td>\n",
       "      <td>9.25</td>\n",
       "      <td>2.22</td>\n",
       "      <td>False</td>\n",
       "    </tr>\n",
       "    <tr>\n",
       "      <th>1</th>\n",
       "      <td>671858</td>\n",
       "      <td>El Taco Loco</td>\n",
       "      <td>San Antonio</td>\n",
       "      <td>23-11-2024 17:11</td>\n",
       "      <td>23-11-2024 17:25</td>\n",
       "      <td>14</td>\n",
       "      <td>Regular</td>\n",
       "      <td>Beef Taco</td>\n",
       "      <td>1</td>\n",
       "      <td>6.20</td>\n",
       "      <td>4.25</td>\n",
       "      <td>3.01</td>\n",
       "      <td>True</td>\n",
       "    </tr>\n",
       "    <tr>\n",
       "      <th>2</th>\n",
       "      <td>688508</td>\n",
       "      <td>Taco Haven</td>\n",
       "      <td>Austin</td>\n",
       "      <td>21-11-2024 20:24</td>\n",
       "      <td>21-11-2024 21:02</td>\n",
       "      <td>38</td>\n",
       "      <td>Large</td>\n",
       "      <td>Pork Taco</td>\n",
       "      <td>2</td>\n",
       "      <td>20.33</td>\n",
       "      <td>7.00</td>\n",
       "      <td>0.02</td>\n",
       "      <td>False</td>\n",
       "    </tr>\n",
       "    <tr>\n",
       "      <th>3</th>\n",
       "      <td>944962</td>\n",
       "      <td>Spicy Taco House</td>\n",
       "      <td>Dallas</td>\n",
       "      <td>21-09-2024 06:43</td>\n",
       "      <td>21-09-2024 07:28</td>\n",
       "      <td>45</td>\n",
       "      <td>Regular</td>\n",
       "      <td>Chicken Taco</td>\n",
       "      <td>2</td>\n",
       "      <td>3.00</td>\n",
       "      <td>5.50</td>\n",
       "      <td>1.90</td>\n",
       "      <td>True</td>\n",
       "    </tr>\n",
       "    <tr>\n",
       "      <th>4</th>\n",
       "      <td>476417</td>\n",
       "      <td>Casa del Taco</td>\n",
       "      <td>San Antonio</td>\n",
       "      <td>24-07-2024 11:01</td>\n",
       "      <td>24-07-2024 11:16</td>\n",
       "      <td>15</td>\n",
       "      <td>Large</td>\n",
       "      <td>Pork Taco</td>\n",
       "      <td>0</td>\n",
       "      <td>24.34</td>\n",
       "      <td>4.50</td>\n",
       "      <td>1.14</td>\n",
       "      <td>False</td>\n",
       "    </tr>\n",
       "  </tbody>\n",
       "</table>\n",
       "</div>"
      ],
      "text/plain": [
       "   Order ID   Restaurant Name     Location        Order Time  \\\n",
       "0    770487      El Taco Loco     New York  01-08-2024 14:55   \n",
       "1    671858      El Taco Loco  San Antonio  23-11-2024 17:11   \n",
       "2    688508        Taco Haven       Austin  21-11-2024 20:24   \n",
       "3    944962  Spicy Taco House       Dallas  21-09-2024 06:43   \n",
       "4    476417     Casa del Taco  San Antonio  24-07-2024 11:01   \n",
       "\n",
       "      Delivery Time  Delivery Duration (min) Taco Size     Taco Type  \\\n",
       "0  01-08-2024 15:36                       41   Regular  Chicken Taco   \n",
       "1  23-11-2024 17:25                       14   Regular     Beef Taco   \n",
       "2  21-11-2024 21:02                       38     Large     Pork Taco   \n",
       "3  21-09-2024 07:28                       45   Regular  Chicken Taco   \n",
       "4  24-07-2024 11:16                       15     Large     Pork Taco   \n",
       "\n",
       "   Toppings Count  Distance (km)  Price ($)  Tip ($)  Weekend Order  \n",
       "0               5           3.01       9.25     2.22          False  \n",
       "1               1           6.20       4.25     3.01           True  \n",
       "2               2          20.33       7.00     0.02          False  \n",
       "3               2           3.00       5.50     1.90           True  \n",
       "4               0          24.34       4.50     1.14          False  "
      ]
     },
     "execution_count": 9,
     "metadata": {},
     "output_type": "execute_result"
    }
   ],
   "source": [
    "df.head()"
   ]
  },
  {
   "cell_type": "code",
   "execution_count": 10,
   "id": "55f2e344",
   "metadata": {},
   "outputs": [
    {
     "data": {
      "text/html": [
       "<div>\n",
       "<style scoped>\n",
       "    .dataframe tbody tr th:only-of-type {\n",
       "        vertical-align: middle;\n",
       "    }\n",
       "\n",
       "    .dataframe tbody tr th {\n",
       "        vertical-align: top;\n",
       "    }\n",
       "\n",
       "    .dataframe thead th {\n",
       "        text-align: right;\n",
       "    }\n",
       "</style>\n",
       "<table border=\"1\" class=\"dataframe\">\n",
       "  <thead>\n",
       "    <tr style=\"text-align: right;\">\n",
       "      <th></th>\n",
       "      <th>Order ID</th>\n",
       "      <th>Delivery Duration (min)</th>\n",
       "      <th>Toppings Count</th>\n",
       "      <th>Distance (km)</th>\n",
       "      <th>Price ($)</th>\n",
       "      <th>Tip ($)</th>\n",
       "    </tr>\n",
       "  </thead>\n",
       "  <tbody>\n",
       "    <tr>\n",
       "      <th>count</th>\n",
       "      <td>1000.000000</td>\n",
       "      <td>1000.00000</td>\n",
       "      <td>1000.000000</td>\n",
       "      <td>1000.000000</td>\n",
       "      <td>1000.000000</td>\n",
       "      <td>1000.000000</td>\n",
       "    </tr>\n",
       "    <tr>\n",
       "      <th>mean</th>\n",
       "      <td>552504.865000</td>\n",
       "      <td>50.93000</td>\n",
       "      <td>2.529000</td>\n",
       "      <td>13.073420</td>\n",
       "      <td>6.908250</td>\n",
       "      <td>1.806110</td>\n",
       "    </tr>\n",
       "    <tr>\n",
       "      <th>std</th>\n",
       "      <td>255948.779709</td>\n",
       "      <td>23.22754</td>\n",
       "      <td>1.717005</td>\n",
       "      <td>7.142268</td>\n",
       "      <td>2.310137</td>\n",
       "      <td>1.132035</td>\n",
       "    </tr>\n",
       "    <tr>\n",
       "      <th>min</th>\n",
       "      <td>101139.000000</td>\n",
       "      <td>10.00000</td>\n",
       "      <td>0.000000</td>\n",
       "      <td>0.510000</td>\n",
       "      <td>3.000000</td>\n",
       "      <td>0.010000</td>\n",
       "    </tr>\n",
       "    <tr>\n",
       "      <th>25%</th>\n",
       "      <td>331796.750000</td>\n",
       "      <td>30.00000</td>\n",
       "      <td>1.000000</td>\n",
       "      <td>6.972500</td>\n",
       "      <td>4.500000</td>\n",
       "      <td>0.907500</td>\n",
       "    </tr>\n",
       "    <tr>\n",
       "      <th>50%</th>\n",
       "      <td>559740.000000</td>\n",
       "      <td>53.00000</td>\n",
       "      <td>3.000000</td>\n",
       "      <td>13.200000</td>\n",
       "      <td>6.750000</td>\n",
       "      <td>1.760000</td>\n",
       "    </tr>\n",
       "    <tr>\n",
       "      <th>75%</th>\n",
       "      <td>771781.750000</td>\n",
       "      <td>71.00000</td>\n",
       "      <td>4.000000</td>\n",
       "      <td>19.242500</td>\n",
       "      <td>9.250000</td>\n",
       "      <td>2.520000</td>\n",
       "    </tr>\n",
       "    <tr>\n",
       "      <th>max</th>\n",
       "      <td>999138.000000</td>\n",
       "      <td>90.00000</td>\n",
       "      <td>5.000000</td>\n",
       "      <td>24.980000</td>\n",
       "      <td>10.750000</td>\n",
       "      <td>4.980000</td>\n",
       "    </tr>\n",
       "  </tbody>\n",
       "</table>\n",
       "</div>"
      ],
      "text/plain": [
       "            Order ID  Delivery Duration (min)  Toppings Count  Distance (km)  \\\n",
       "count    1000.000000               1000.00000     1000.000000    1000.000000   \n",
       "mean   552504.865000                 50.93000        2.529000      13.073420   \n",
       "std    255948.779709                 23.22754        1.717005       7.142268   \n",
       "min    101139.000000                 10.00000        0.000000       0.510000   \n",
       "25%    331796.750000                 30.00000        1.000000       6.972500   \n",
       "50%    559740.000000                 53.00000        3.000000      13.200000   \n",
       "75%    771781.750000                 71.00000        4.000000      19.242500   \n",
       "max    999138.000000                 90.00000        5.000000      24.980000   \n",
       "\n",
       "         Price ($)      Tip ($)  \n",
       "count  1000.000000  1000.000000  \n",
       "mean      6.908250     1.806110  \n",
       "std       2.310137     1.132035  \n",
       "min       3.000000     0.010000  \n",
       "25%       4.500000     0.907500  \n",
       "50%       6.750000     1.760000  \n",
       "75%       9.250000     2.520000  \n",
       "max      10.750000     4.980000  "
      ]
     },
     "execution_count": 10,
     "metadata": {},
     "output_type": "execute_result"
    }
   ],
   "source": [
    "df.describe()"
   ]
  },
  {
   "cell_type": "markdown",
   "id": "06147af9",
   "metadata": {},
   "source": [
    "### One-hot Encording"
   ]
  },
  {
   "cell_type": "code",
   "execution_count": 11,
   "id": "2a29900d",
   "metadata": {},
   "outputs": [],
   "source": [
    "df_encoded = pd.get_dummies(df, columns=categorical_columns, drop_first=True)"
   ]
  },
  {
   "cell_type": "code",
   "execution_count": 12,
   "id": "faa07243",
   "metadata": {},
   "outputs": [
    {
     "data": {
      "text/html": [
       "<div>\n",
       "<style scoped>\n",
       "    .dataframe tbody tr th:only-of-type {\n",
       "        vertical-align: middle;\n",
       "    }\n",
       "\n",
       "    .dataframe tbody tr th {\n",
       "        vertical-align: top;\n",
       "    }\n",
       "\n",
       "    .dataframe thead th {\n",
       "        text-align: right;\n",
       "    }\n",
       "</style>\n",
       "<table border=\"1\" class=\"dataframe\">\n",
       "  <thead>\n",
       "    <tr style=\"text-align: right;\">\n",
       "      <th></th>\n",
       "      <th>Order ID</th>\n",
       "      <th>Order Time</th>\n",
       "      <th>Delivery Time</th>\n",
       "      <th>Delivery Duration (min)</th>\n",
       "      <th>Toppings Count</th>\n",
       "      <th>Distance (km)</th>\n",
       "      <th>Price ($)</th>\n",
       "      <th>Tip ($)</th>\n",
       "      <th>Restaurant Name_El Taco Loco</th>\n",
       "      <th>Restaurant Name_Grande Tacos</th>\n",
       "      <th>...</th>\n",
       "      <th>Location_Phoenix</th>\n",
       "      <th>Location_San Antonio</th>\n",
       "      <th>Location_San Diego</th>\n",
       "      <th>Location_San Jose</th>\n",
       "      <th>Taco Size_Regular</th>\n",
       "      <th>Taco Type_Chicken Taco</th>\n",
       "      <th>Taco Type_Fish Taco</th>\n",
       "      <th>Taco Type_Pork Taco</th>\n",
       "      <th>Taco Type_Veggie Taco</th>\n",
       "      <th>Weekend Order_True</th>\n",
       "    </tr>\n",
       "  </thead>\n",
       "  <tbody>\n",
       "    <tr>\n",
       "      <th>0</th>\n",
       "      <td>770487</td>\n",
       "      <td>01-08-2024 14:55</td>\n",
       "      <td>01-08-2024 15:36</td>\n",
       "      <td>41</td>\n",
       "      <td>5</td>\n",
       "      <td>3.01</td>\n",
       "      <td>9.25</td>\n",
       "      <td>2.22</td>\n",
       "      <td>True</td>\n",
       "      <td>False</td>\n",
       "      <td>...</td>\n",
       "      <td>False</td>\n",
       "      <td>False</td>\n",
       "      <td>False</td>\n",
       "      <td>False</td>\n",
       "      <td>True</td>\n",
       "      <td>True</td>\n",
       "      <td>False</td>\n",
       "      <td>False</td>\n",
       "      <td>False</td>\n",
       "      <td>False</td>\n",
       "    </tr>\n",
       "    <tr>\n",
       "      <th>1</th>\n",
       "      <td>671858</td>\n",
       "      <td>23-11-2024 17:11</td>\n",
       "      <td>23-11-2024 17:25</td>\n",
       "      <td>14</td>\n",
       "      <td>1</td>\n",
       "      <td>6.20</td>\n",
       "      <td>4.25</td>\n",
       "      <td>3.01</td>\n",
       "      <td>True</td>\n",
       "      <td>False</td>\n",
       "      <td>...</td>\n",
       "      <td>False</td>\n",
       "      <td>True</td>\n",
       "      <td>False</td>\n",
       "      <td>False</td>\n",
       "      <td>True</td>\n",
       "      <td>False</td>\n",
       "      <td>False</td>\n",
       "      <td>False</td>\n",
       "      <td>False</td>\n",
       "      <td>True</td>\n",
       "    </tr>\n",
       "    <tr>\n",
       "      <th>2</th>\n",
       "      <td>688508</td>\n",
       "      <td>21-11-2024 20:24</td>\n",
       "      <td>21-11-2024 21:02</td>\n",
       "      <td>38</td>\n",
       "      <td>2</td>\n",
       "      <td>20.33</td>\n",
       "      <td>7.00</td>\n",
       "      <td>0.02</td>\n",
       "      <td>False</td>\n",
       "      <td>False</td>\n",
       "      <td>...</td>\n",
       "      <td>False</td>\n",
       "      <td>False</td>\n",
       "      <td>False</td>\n",
       "      <td>False</td>\n",
       "      <td>False</td>\n",
       "      <td>False</td>\n",
       "      <td>False</td>\n",
       "      <td>True</td>\n",
       "      <td>False</td>\n",
       "      <td>False</td>\n",
       "    </tr>\n",
       "    <tr>\n",
       "      <th>3</th>\n",
       "      <td>944962</td>\n",
       "      <td>21-09-2024 06:43</td>\n",
       "      <td>21-09-2024 07:28</td>\n",
       "      <td>45</td>\n",
       "      <td>2</td>\n",
       "      <td>3.00</td>\n",
       "      <td>5.50</td>\n",
       "      <td>1.90</td>\n",
       "      <td>False</td>\n",
       "      <td>False</td>\n",
       "      <td>...</td>\n",
       "      <td>False</td>\n",
       "      <td>False</td>\n",
       "      <td>False</td>\n",
       "      <td>False</td>\n",
       "      <td>True</td>\n",
       "      <td>True</td>\n",
       "      <td>False</td>\n",
       "      <td>False</td>\n",
       "      <td>False</td>\n",
       "      <td>True</td>\n",
       "    </tr>\n",
       "    <tr>\n",
       "      <th>4</th>\n",
       "      <td>476417</td>\n",
       "      <td>24-07-2024 11:01</td>\n",
       "      <td>24-07-2024 11:16</td>\n",
       "      <td>15</td>\n",
       "      <td>0</td>\n",
       "      <td>24.34</td>\n",
       "      <td>4.50</td>\n",
       "      <td>1.14</td>\n",
       "      <td>False</td>\n",
       "      <td>False</td>\n",
       "      <td>...</td>\n",
       "      <td>False</td>\n",
       "      <td>True</td>\n",
       "      <td>False</td>\n",
       "      <td>False</td>\n",
       "      <td>False</td>\n",
       "      <td>False</td>\n",
       "      <td>False</td>\n",
       "      <td>True</td>\n",
       "      <td>False</td>\n",
       "      <td>False</td>\n",
       "    </tr>\n",
       "  </tbody>\n",
       "</table>\n",
       "<p>5 rows × 32 columns</p>\n",
       "</div>"
      ],
      "text/plain": [
       "   Order ID        Order Time     Delivery Time  Delivery Duration (min)  \\\n",
       "0    770487  01-08-2024 14:55  01-08-2024 15:36                       41   \n",
       "1    671858  23-11-2024 17:11  23-11-2024 17:25                       14   \n",
       "2    688508  21-11-2024 20:24  21-11-2024 21:02                       38   \n",
       "3    944962  21-09-2024 06:43  21-09-2024 07:28                       45   \n",
       "4    476417  24-07-2024 11:01  24-07-2024 11:16                       15   \n",
       "\n",
       "   Toppings Count  Distance (km)  Price ($)  Tip ($)  \\\n",
       "0               5           3.01       9.25     2.22   \n",
       "1               1           6.20       4.25     3.01   \n",
       "2               2          20.33       7.00     0.02   \n",
       "3               2           3.00       5.50     1.90   \n",
       "4               0          24.34       4.50     1.14   \n",
       "\n",
       "   Restaurant Name_El Taco Loco  Restaurant Name_Grande Tacos  ...  \\\n",
       "0                          True                         False  ...   \n",
       "1                          True                         False  ...   \n",
       "2                         False                         False  ...   \n",
       "3                         False                         False  ...   \n",
       "4                         False                         False  ...   \n",
       "\n",
       "   Location_Phoenix  Location_San Antonio  Location_San Diego  \\\n",
       "0             False                 False               False   \n",
       "1             False                  True               False   \n",
       "2             False                 False               False   \n",
       "3             False                 False               False   \n",
       "4             False                  True               False   \n",
       "\n",
       "   Location_San Jose  Taco Size_Regular  Taco Type_Chicken Taco  \\\n",
       "0              False               True                    True   \n",
       "1              False               True                   False   \n",
       "2              False              False                   False   \n",
       "3              False               True                    True   \n",
       "4              False              False                   False   \n",
       "\n",
       "   Taco Type_Fish Taco  Taco Type_Pork Taco  Taco Type_Veggie Taco  \\\n",
       "0                False                False                  False   \n",
       "1                False                False                  False   \n",
       "2                False                 True                  False   \n",
       "3                False                False                  False   \n",
       "4                False                 True                  False   \n",
       "\n",
       "   Weekend Order_True  \n",
       "0               False  \n",
       "1                True  \n",
       "2               False  \n",
       "3                True  \n",
       "4               False  \n",
       "\n",
       "[5 rows x 32 columns]"
      ]
     },
     "execution_count": 12,
     "metadata": {},
     "output_type": "execute_result"
    }
   ],
   "source": [
    "df_encoded.head()"
   ]
  },
  {
   "cell_type": "code",
   "execution_count": 14,
   "id": "cbe586b0",
   "metadata": {},
   "outputs": [
    {
     "data": {
      "text/plain": [
       "Index(['Order ID', 'Order Time', 'Delivery Time', 'Delivery Duration (min)',\n",
       "       'Toppings Count', 'Distance (km)', 'Price ($)', 'Tip ($)',\n",
       "       'Restaurant Name_El Taco Loco', 'Restaurant Name_Grande Tacos',\n",
       "       'Restaurant Name_La Vida Taco', 'Restaurant Name_Spicy Taco House',\n",
       "       'Restaurant Name_Taco Fiesta', 'Restaurant Name_Taco Haven',\n",
       "       'Restaurant Name_Taco Time Express', 'Restaurant Name_The Taco Stand',\n",
       "       'Restaurant Name_Urban Tacos', 'Location_Chicago', 'Location_Dallas',\n",
       "       'Location_Houston', 'Location_Los Angeles', 'Location_New York',\n",
       "       'Location_Phoenix', 'Location_San Antonio', 'Location_San Diego',\n",
       "       'Location_San Jose', 'Taco Size_Regular', 'Taco Type_Chicken Taco',\n",
       "       'Taco Type_Fish Taco', 'Taco Type_Pork Taco', 'Taco Type_Veggie Taco',\n",
       "       'Weekend Order_True'],\n",
       "      dtype='object')"
      ]
     },
     "execution_count": 14,
     "metadata": {},
     "output_type": "execute_result"
    }
   ],
   "source": [
    "df_encoded.columns"
   ]
  },
  {
   "cell_type": "markdown",
   "id": "a98d14d7",
   "metadata": {},
   "source": [
    "### Drop Useless columns"
   ]
  },
  {
   "cell_type": "code",
   "execution_count": 15,
   "id": "f65b4c37",
   "metadata": {},
   "outputs": [],
   "source": [
    "df_encoded.drop(columns=['Order ID', 'Order Time','Delivery Time'], inplace=True)"
   ]
  },
  {
   "cell_type": "code",
   "execution_count": 16,
   "id": "29944e45",
   "metadata": {},
   "outputs": [
    {
     "data": {
      "text/plain": [
       "Index(['Delivery Duration (min)', 'Toppings Count', 'Distance (km)',\n",
       "       'Price ($)', 'Tip ($)', 'Restaurant Name_El Taco Loco',\n",
       "       'Restaurant Name_Grande Tacos', 'Restaurant Name_La Vida Taco',\n",
       "       'Restaurant Name_Spicy Taco House', 'Restaurant Name_Taco Fiesta',\n",
       "       'Restaurant Name_Taco Haven', 'Restaurant Name_Taco Time Express',\n",
       "       'Restaurant Name_The Taco Stand', 'Restaurant Name_Urban Tacos',\n",
       "       'Location_Chicago', 'Location_Dallas', 'Location_Houston',\n",
       "       'Location_Los Angeles', 'Location_New York', 'Location_Phoenix',\n",
       "       'Location_San Antonio', 'Location_San Diego', 'Location_San Jose',\n",
       "       'Taco Size_Regular', 'Taco Type_Chicken Taco', 'Taco Type_Fish Taco',\n",
       "       'Taco Type_Pork Taco', 'Taco Type_Veggie Taco', 'Weekend Order_True'],\n",
       "      dtype='object')"
      ]
     },
     "execution_count": 16,
     "metadata": {},
     "output_type": "execute_result"
    }
   ],
   "source": [
    "df_encoded.columns"
   ]
  },
  {
   "cell_type": "code",
   "execution_count": 19,
   "id": "b4f79906",
   "metadata": {},
   "outputs": [],
   "source": [
    "numeric_df = df_encoded.select_dtypes(include = ['number'])\n",
    "corr_matrix = numeric_df.corr()"
   ]
  },
  {
   "cell_type": "code",
   "execution_count": 21,
   "id": "e3488b82",
   "metadata": {},
   "outputs": [
    {
     "name": "stdout",
     "output_type": "stream",
     "text": [
      "Price ($)                  1.000000\n",
      "Toppings Count             0.945928\n",
      "Tip ($)                    0.059377\n",
      "Distance (km)              0.031482\n",
      "Delivery Duration (min)   -0.035233\n"
     ]
    }
   ],
   "source": [
    "print(corr_matrix['Price ($)'].sort_values(ascending = False).to_string())"
   ]
  },
  {
   "cell_type": "code",
   "execution_count": 22,
   "id": "fd2f5661",
   "metadata": {},
   "outputs": [
    {
     "data": {
      "image/png": "[encoded data removed]",
      "text/plain": [
       "<Figure size 1440x1440 with 2 Axes>"
      ]
     },
     "metadata": {
      "needs_background": "light"
     },
     "output_type": "display_data"
    }
   ],
   "source": [
    "plt.figure(figsize=(20,20))\n",
    "sns.heatmap(corr_matrix,annot=True,cmap = 'coolwarm', fmt = \".2f\")\n",
    "plt.show()"
   ]
  },
  {
   "cell_type": "markdown",
   "id": "654e1e1a",
   "metadata": {},
   "source": [
    "### Split Data into Train and Test"
   ]
  },
  {
   "cell_type": "code",
   "execution_count": 23,
   "id": "58813346",
   "metadata": {},
   "outputs": [],
   "source": [
    "x = df_encoded.drop(['Price ($)'],axis =1)\n",
    "y = df_encoded['Price ($)']"
   ]
  },
  {
   "cell_type": "code",
   "execution_count": 24,
   "id": "9dde405e",
   "metadata": {},
   "outputs": [],
   "source": [
    "from sklearn.model_selection import train_test_split"
   ]
  },
  {
   "cell_type": "code",
   "execution_count": 25,
   "id": "f7e09061",
   "metadata": {},
   "outputs": [],
   "source": [
    "x_train,x_test,y_train,y_test = train_test_split(x,y,test_size = 0.25,random_state=42)"
   ]
  },
  {
   "cell_type": "markdown",
   "id": "7940deb7",
   "metadata": {},
   "source": [
    "### Apply standard scaler"
   ]
  },
  {
   "cell_type": "code",
   "execution_count": 27,
   "id": "722a8623",
   "metadata": {},
   "outputs": [],
   "source": [
    "from sklearn.preprocessing import StandardScaler"
   ]
  },
  {
   "cell_type": "code",
   "execution_count": 28,
   "id": "7c04e2ef",
   "metadata": {},
   "outputs": [],
   "source": [
    "sd = StandardScaler()\n",
    "x_train_scaled = sd.fit_transform(x_train)\n",
    "x_test_scaled = sd.transform(x_test)"
   ]
  },
  {
   "cell_type": "markdown",
   "id": "14387275",
   "metadata": {},
   "source": [
    "## Deploy Linear Regression Model"
   ]
  },
  {
   "cell_type": "code",
   "execution_count": 29,
   "id": "c1c5668d",
   "metadata": {},
   "outputs": [],
   "source": [
    "from sklearn.linear_model import LinearRegression"
   ]
  },
  {
   "cell_type": "code",
   "execution_count": 30,
   "id": "8572a282",
   "metadata": {},
   "outputs": [
    {
     "data": {
      "text/plain": [
       "LinearRegression()"
      ]
     },
     "execution_count": 30,
     "metadata": {},
     "output_type": "execute_result"
    }
   ],
   "source": [
    "model = LinearRegression()\n",
    "model.fit(x_train_scaled, y_train)"
   ]
  },
  {
   "cell_type": "code",
   "execution_count": 31,
   "id": "6602d5bb",
   "metadata": {},
   "outputs": [
    {
     "name": "stderr",
     "output_type": "stream",
     "text": [
      "C:\\Users\\Maclan\\anaconda3\\lib\\site-packages\\sklearn\\base.py:443: UserWarning: X has feature names, but LinearRegression was fitted without feature names\n",
      "  warnings.warn(\n"
     ]
    }
   ],
   "source": [
    "y_pred = model.predict(x_test)"
   ]
  },
  {
   "cell_type": "code",
   "execution_count": 33,
   "id": "c77c1f66",
   "metadata": {},
   "outputs": [
    {
     "name": "stdout",
     "output_type": "stream",
     "text": [
      "Mean Absolute Error: 5.221649753488963\n",
      "Mean Squared Error: 29.648983426566836\n",
      "R² Score: -5.120405704241708\n"
     ]
    }
   ],
   "source": [
    "from sklearn.metrics import mean_absolute_error, mean_squared_error, r2_score\n",
    "\n",
    "mae = mean_absolute_error(y_test, y_pred)\n",
    "mse = mean_squared_error(y_test, y_pred)\n",
    "r2 = r2_score(y_test, y_pred)\n",
    "\n",
    "print(\"Mean Absolute Error:\", mae)\n",
    "print(\"Mean Squared Error:\", mse)\n",
    "print(\"R² Score:\", r2)"
   ]
  },
  {
   "cell_type": "code",
   "execution_count": 35,
   "id": "e7ca1d47",
   "metadata": {},
   "outputs": [
    {
     "name": "stdout",
     "output_type": "stream",
     "text": [
      "                              Feature   Coefficient\n",
      "0             Delivery Duration (min)  6.016103e-17\n",
      "1                      Toppings Count  2.173211e+00\n",
      "2                       Distance (km) -1.809739e-16\n",
      "3                             Tip ($)  4.038444e-16\n",
      "4        Restaurant Name_El Taco Loco -1.097082e-16\n",
      "5        Restaurant Name_Grande Tacos -3.746557e-16\n",
      "6        Restaurant Name_La Vida Taco -2.089104e-16\n",
      "7    Restaurant Name_Spicy Taco House -3.007028e-16\n",
      "8         Restaurant Name_Taco Fiesta  1.612826e-16\n",
      "9          Restaurant Name_Taco Haven -2.306520e-16\n",
      "10  Restaurant Name_Taco Time Express -3.032873e-16\n",
      "11     Restaurant Name_The Taco Stand -4.715160e-16\n",
      "12        Restaurant Name_Urban Tacos  6.026384e-16\n",
      "13                   Location_Chicago  3.584232e-16\n",
      "14                    Location_Dallas  1.353975e-16\n",
      "15                   Location_Houston  3.906501e-16\n",
      "16               Location_Los Angeles  4.129244e-16\n",
      "17                  Location_New York -1.084202e-16\n",
      "18                   Location_Phoenix -6.800116e-16\n",
      "19               Location_San Antonio  1.665335e-16\n",
      "20                 Location_San Diego -3.330669e-16\n",
      "21                  Location_San Jose -6.245005e-16\n",
      "22                  Taco Size_Regular -7.499893e-01\n",
      "23             Taco Type_Chicken Taco -3.330669e-16\n",
      "24                Taco Type_Fish Taco -1.110223e-16\n",
      "25                Taco Type_Pork Taco -2.775558e-16\n",
      "26              Taco Type_Veggie Taco -7.736867e-16\n",
      "27                 Weekend Order_True -5.551115e-17\n"
     ]
    }
   ],
   "source": [
    "coefficients = pd.DataFrame({\n",
    "    'Feature': x.columns,\n",
    "    'Coefficient': model.coef_\n",
    "})\n",
    "print(coefficients)"
   ]
  },
  {
   "cell_type": "code",
   "execution_count": 36,
   "id": "ad815aed",
   "metadata": {},
   "outputs": [
    {
     "data": {
      "image/png": "[encoded data removed]",
      "text/plain": [
       "<Figure size 432x288 with 1 Axes>"
      ]
     },
     "metadata": {
      "needs_background": "light"
     },
     "output_type": "display_data"
    }
   ],
   "source": [
    "plt.scatter(y_test, y_pred)\n",
    "plt.xlabel(\"Actual\")\n",
    "plt.ylabel(\"Predicted\")\n",
    "plt.title(\"Actual vs Predicted\")\n",
    "plt.show()"
   ]
  },
  {
   "cell_type": "code",
   "execution_count": null,
   "id": "b0c4d1fb",
   "metadata": {},
   "outputs": [],
   "source": []
  }
 ],
 "metadata": {
  "kernelspec": {
   "display_name": "Python 3 (ipykernel)",
   "language": "python",
   "name": "python3"
  },
  "language_info": {
   "codemirror_mode": {
    "name": "ipython",
    "version": 3
   },
   "file_extension": ".py",
   "mimetype": "text/x-python",
   "name": "python",
   "nbconvert_exporter": "python",
   "pygments_lexer": "ipython3",
   "version": "3.9.12"
  }
 },
 "nbformat": 4,
 "nbformat_minor": 5
}
